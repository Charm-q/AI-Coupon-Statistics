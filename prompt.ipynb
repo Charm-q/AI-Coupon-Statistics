{
 "cells": [
  {
   "cell_type": "markdown",
   "metadata": {},
   "source": [
    "### Will a Customer Accept the Coupon?\n",
    "\n",
    "**Context**\n",
    "\n",
    "Imagine driving through town and a coupon is delivered to your cell phone for a restaraunt near where you are driving. Would you accept that coupon and take a short detour to the restaraunt? Would you accept the coupon but use it on a sunbsequent trip? Would you ignore the coupon entirely? What if the coupon was for a bar instead of a restaraunt? What about a coffee house? Would you accept a bar coupon with a minor passenger in the car? What about if it was just you and your partner in the car? Would weather impact the rate of acceptance? What about the time of day?\n",
    "\n",
    "Obviously, proximity to the business is a factor on whether the coupon is delivered to the driver or not, but what are the factors that determine whether a driver accepts the coupon once it is delivered to them? How would you determine whether a driver is likely to accept a coupon?\n",
    "\n",
    "**Overview**\n",
    "\n",
    "The goal of this project is to use what you know about visualizations and probability distributions to distinguish between customers who accepted a driving coupon versus those that did not.\n",
    "\n",
    "**Data**\n",
    "\n",
    "This data comes to us from the UCI Machine Learning repository and was collected via a survey on Amazon Mechanical Turk. The survey describes different driving scenarios including the destination, current time, weather, passenger, etc., and then ask the person whether he will accept the coupon if he is the driver. Answers that the user will drive there ‘right away’ or ‘later before the coupon expires’ are labeled as ‘Y = 1’ and answers ‘no, I do not want the coupon’ are labeled as ‘Y = 0’.  There are five different types of coupons -- less expensive restaurants (under \\\\$20), coffee houses, carry out & take away, bar, and more expensive restaurants (\\\\$20 - \\\\$50). "
   ]
  },
  {
   "cell_type": "markdown",
   "metadata": {},
   "source": [
    "**Deliverables**\n",
    "\n",
    "Your final product should be a brief report that highlights the differences between customers who did and did not accept the coupons.  To explore the data you will utilize your knowledge of plotting, statistical summaries, and visualization using Python. You will publish your findings in a public facing github repository as your first portfolio piece. \n",
    "\n",
    "\n",
    "\n"
   ]
  },
  {
   "cell_type": "markdown",
   "metadata": {},
   "source": [
    "### Data Description\n",
    "\n",
    "The attributes of this data set include:\n",
    "1. User attributes\n",
    "    -  Gender: male, female\n",
    "    -  Age: below 21, 21 to 25, 26 to 30, etc.\n",
    "    -  Marital Status: single, married partner, unmarried partner, or widowed\n",
    "    -  Number of children: 0, 1, or more than 1\n",
    "    -  Education: high school, bachelors degree, associates degree, or graduate degree\n",
    "    -  Occupation: architecture & engineering, business & financial, etc.\n",
    "    -  Annual income: less than \\\\$12500, \\\\$12500 - \\\\$24999, \\\\$25000 - \\\\$37499, etc.\n",
    "    -  Number of times that he/she goes to a bar: 0, less than 1, 1 to 3, 4 to 8 or greater than 8\n",
    "    -  Number of times that he/she buys takeaway food: 0, less than 1, 1 to 3, 4 to 8 or greater\n",
    "    than 8\n",
    "    -  Number of times that he/she goes to a coffee house: 0, less than 1, 1 to 3, 4 to 8 or\n",
    "    greater than 8\n",
    "    -  Number of times that he/she eats at a restaurant with average expense less than \\\\$20 per\n",
    "    person: 0, less than 1, 1 to 3, 4 to 8 or greater than 8\n",
    "    -  Number of times that he/she goes to a bar: 0, less than 1, 1 to 3, 4 to 8 or greater than 8\n",
    "    \n",
    "\n",
    "2. Contextual attributes\n",
    "    - Driving destination: home, work, or no urgent destination\n",
    "    - Location of user, coupon and destination: we provide a map to show the geographical\n",
    "    location of the user, destination, and the venue, and we mark the distance between each\n",
    "    two places with time of driving. The user can see whether the venue is in the same\n",
    "    direction as the destination.\n",
    "    - Weather: sunny, rainy, or snowy\n",
    "    - Temperature: 30F, 55F, or 80F\n",
    "    - Time: 10AM, 2PM, or 6PM\n",
    "    - Passenger: alone, partner, kid(s), or friend(s)\n",
    "\n",
    "\n",
    "3. Coupon attributes\n",
    "    - time before it expires: 2 hours or one day"
   ]
  },
  {
   "cell_type": "code",
   "execution_count": 143,
   "metadata": {},
   "outputs": [],
   "source": [
    "import matplotlib.pyplot as plt\n",
    "import seaborn as sns\n",
    "import pandas as pd\n",
    "import numpy as np"
   ]
  },
  {
   "cell_type": "markdown",
   "metadata": {},
   "source": [
    "### Problems\n",
    "\n",
    "Use the prompts below to get started with your data analysis.  \n",
    "\n",
    "1. Read in the `coupons.csv` file.\n",
    "\n",
    "\n"
   ]
  },
  {
   "cell_type": "code",
   "execution_count": 144,
   "metadata": {},
   "outputs": [],
   "source": [
    "data = pd.read_csv('data/coupons.csv')"
   ]
  },
  {
   "cell_type": "code",
   "execution_count": 145,
   "metadata": {},
   "outputs": [
    {
     "data": {
      "text/html": [
       "<div>\n",
       "<style scoped>\n",
       "    .dataframe tbody tr th:only-of-type {\n",
       "        vertical-align: middle;\n",
       "    }\n",
       "\n",
       "    .dataframe tbody tr th {\n",
       "        vertical-align: top;\n",
       "    }\n",
       "\n",
       "    .dataframe thead th {\n",
       "        text-align: right;\n",
       "    }\n",
       "</style>\n",
       "<table border=\"1\" class=\"dataframe\">\n",
       "  <thead>\n",
       "    <tr style=\"text-align: right;\">\n",
       "      <th></th>\n",
       "      <th>destination</th>\n",
       "      <th>passanger</th>\n",
       "      <th>weather</th>\n",
       "      <th>temperature</th>\n",
       "      <th>time</th>\n",
       "      <th>coupon</th>\n",
       "      <th>expiration</th>\n",
       "      <th>gender</th>\n",
       "      <th>age</th>\n",
       "      <th>maritalStatus</th>\n",
       "      <th>...</th>\n",
       "      <th>CoffeeHouse</th>\n",
       "      <th>CarryAway</th>\n",
       "      <th>RestaurantLessThan20</th>\n",
       "      <th>Restaurant20To50</th>\n",
       "      <th>toCoupon_GEQ5min</th>\n",
       "      <th>toCoupon_GEQ15min</th>\n",
       "      <th>toCoupon_GEQ25min</th>\n",
       "      <th>direction_same</th>\n",
       "      <th>direction_opp</th>\n",
       "      <th>Y</th>\n",
       "    </tr>\n",
       "  </thead>\n",
       "  <tbody>\n",
       "    <tr>\n",
       "      <th>0</th>\n",
       "      <td>No Urgent Place</td>\n",
       "      <td>Alone</td>\n",
       "      <td>Sunny</td>\n",
       "      <td>55</td>\n",
       "      <td>2PM</td>\n",
       "      <td>Restaurant(&lt;20)</td>\n",
       "      <td>1d</td>\n",
       "      <td>Female</td>\n",
       "      <td>21</td>\n",
       "      <td>Unmarried partner</td>\n",
       "      <td>...</td>\n",
       "      <td>never</td>\n",
       "      <td>NaN</td>\n",
       "      <td>4~8</td>\n",
       "      <td>1~3</td>\n",
       "      <td>1</td>\n",
       "      <td>0</td>\n",
       "      <td>0</td>\n",
       "      <td>0</td>\n",
       "      <td>1</td>\n",
       "      <td>1</td>\n",
       "    </tr>\n",
       "    <tr>\n",
       "      <th>1</th>\n",
       "      <td>No Urgent Place</td>\n",
       "      <td>Friend(s)</td>\n",
       "      <td>Sunny</td>\n",
       "      <td>80</td>\n",
       "      <td>10AM</td>\n",
       "      <td>Coffee House</td>\n",
       "      <td>2h</td>\n",
       "      <td>Female</td>\n",
       "      <td>21</td>\n",
       "      <td>Unmarried partner</td>\n",
       "      <td>...</td>\n",
       "      <td>never</td>\n",
       "      <td>NaN</td>\n",
       "      <td>4~8</td>\n",
       "      <td>1~3</td>\n",
       "      <td>1</td>\n",
       "      <td>0</td>\n",
       "      <td>0</td>\n",
       "      <td>0</td>\n",
       "      <td>1</td>\n",
       "      <td>0</td>\n",
       "    </tr>\n",
       "    <tr>\n",
       "      <th>2</th>\n",
       "      <td>No Urgent Place</td>\n",
       "      <td>Friend(s)</td>\n",
       "      <td>Sunny</td>\n",
       "      <td>80</td>\n",
       "      <td>10AM</td>\n",
       "      <td>Carry out &amp; Take away</td>\n",
       "      <td>2h</td>\n",
       "      <td>Female</td>\n",
       "      <td>21</td>\n",
       "      <td>Unmarried partner</td>\n",
       "      <td>...</td>\n",
       "      <td>never</td>\n",
       "      <td>NaN</td>\n",
       "      <td>4~8</td>\n",
       "      <td>1~3</td>\n",
       "      <td>1</td>\n",
       "      <td>1</td>\n",
       "      <td>0</td>\n",
       "      <td>0</td>\n",
       "      <td>1</td>\n",
       "      <td>1</td>\n",
       "    </tr>\n",
       "    <tr>\n",
       "      <th>3</th>\n",
       "      <td>No Urgent Place</td>\n",
       "      <td>Friend(s)</td>\n",
       "      <td>Sunny</td>\n",
       "      <td>80</td>\n",
       "      <td>2PM</td>\n",
       "      <td>Coffee House</td>\n",
       "      <td>2h</td>\n",
       "      <td>Female</td>\n",
       "      <td>21</td>\n",
       "      <td>Unmarried partner</td>\n",
       "      <td>...</td>\n",
       "      <td>never</td>\n",
       "      <td>NaN</td>\n",
       "      <td>4~8</td>\n",
       "      <td>1~3</td>\n",
       "      <td>1</td>\n",
       "      <td>1</td>\n",
       "      <td>0</td>\n",
       "      <td>0</td>\n",
       "      <td>1</td>\n",
       "      <td>0</td>\n",
       "    </tr>\n",
       "    <tr>\n",
       "      <th>4</th>\n",
       "      <td>No Urgent Place</td>\n",
       "      <td>Friend(s)</td>\n",
       "      <td>Sunny</td>\n",
       "      <td>80</td>\n",
       "      <td>2PM</td>\n",
       "      <td>Coffee House</td>\n",
       "      <td>1d</td>\n",
       "      <td>Female</td>\n",
       "      <td>21</td>\n",
       "      <td>Unmarried partner</td>\n",
       "      <td>...</td>\n",
       "      <td>never</td>\n",
       "      <td>NaN</td>\n",
       "      <td>4~8</td>\n",
       "      <td>1~3</td>\n",
       "      <td>1</td>\n",
       "      <td>1</td>\n",
       "      <td>0</td>\n",
       "      <td>0</td>\n",
       "      <td>1</td>\n",
       "      <td>0</td>\n",
       "    </tr>\n",
       "  </tbody>\n",
       "</table>\n",
       "<p>5 rows × 26 columns</p>\n",
       "</div>"
      ],
      "text/plain": [
       "       destination  passanger weather  temperature  time  \\\n",
       "0  No Urgent Place      Alone   Sunny           55   2PM   \n",
       "1  No Urgent Place  Friend(s)   Sunny           80  10AM   \n",
       "2  No Urgent Place  Friend(s)   Sunny           80  10AM   \n",
       "3  No Urgent Place  Friend(s)   Sunny           80   2PM   \n",
       "4  No Urgent Place  Friend(s)   Sunny           80   2PM   \n",
       "\n",
       "                  coupon expiration  gender age      maritalStatus  ...  \\\n",
       "0        Restaurant(<20)         1d  Female  21  Unmarried partner  ...   \n",
       "1           Coffee House         2h  Female  21  Unmarried partner  ...   \n",
       "2  Carry out & Take away         2h  Female  21  Unmarried partner  ...   \n",
       "3           Coffee House         2h  Female  21  Unmarried partner  ...   \n",
       "4           Coffee House         1d  Female  21  Unmarried partner  ...   \n",
       "\n",
       "   CoffeeHouse CarryAway RestaurantLessThan20 Restaurant20To50  \\\n",
       "0        never       NaN                  4~8              1~3   \n",
       "1        never       NaN                  4~8              1~3   \n",
       "2        never       NaN                  4~8              1~3   \n",
       "3        never       NaN                  4~8              1~3   \n",
       "4        never       NaN                  4~8              1~3   \n",
       "\n",
       "  toCoupon_GEQ5min toCoupon_GEQ15min toCoupon_GEQ25min direction_same  \\\n",
       "0                1                 0                 0              0   \n",
       "1                1                 0                 0              0   \n",
       "2                1                 1                 0              0   \n",
       "3                1                 1                 0              0   \n",
       "4                1                 1                 0              0   \n",
       "\n",
       "  direction_opp  Y  \n",
       "0             1  1  \n",
       "1             1  0  \n",
       "2             1  1  \n",
       "3             1  0  \n",
       "4             1  0  \n",
       "\n",
       "[5 rows x 26 columns]"
      ]
     },
     "execution_count": 145,
     "metadata": {},
     "output_type": "execute_result"
    }
   ],
   "source": [
    "data.head()"
   ]
  },
  {
   "cell_type": "markdown",
   "metadata": {},
   "source": [
    "2. Investigate the dataset for missing or problematic data."
   ]
  },
  {
   "cell_type": "markdown",
   "metadata": {},
   "source": [
    "We take a look at the unique values in the datasets to see if we can get an idea of what columns/rows needs to be cleaned."
   ]
  },
  {
   "cell_type": "code",
   "execution_count": 146,
   "metadata": {},
   "outputs": [
    {
     "name": "stdout",
     "output_type": "stream",
     "text": [
      "destination                                 [No Urgent Place, Home, Work]\n",
      "passanger                             [Alone, Friend(s), Kid(s), Partner]\n",
      "weather                                             [Sunny, Rainy, Snowy]\n",
      "temperature                                                  [55, 80, 30]\n",
      "time                                          [2PM, 10AM, 6PM, 7AM, 10PM]\n",
      "coupon                  [Restaurant(<20), Coffee House, Carry out & Ta...\n",
      "expiration                                                       [1d, 2h]\n",
      "gender                                                     [Female, Male]\n",
      "age                             [21, 46, 26, 31, 41, 50plus, 36, below21]\n",
      "maritalStatus           [Unmarried partner, Single, Married partner, D...\n",
      "has_children                                                       [1, 0]\n",
      "education               [Some college - no degree, Bachelors degree, A...\n",
      "occupation              [Unemployed, Architecture & Engineering, Stude...\n",
      "income                  [$37500 - $49999, $62500 - $74999, $12500 - $2...\n",
      "car                     [nan, Scooter and motorcycle, crossover, Mazda...\n",
      "Bar                                    [never, less1, 1~3, gt8, nan, 4~8]\n",
      "CoffeeHouse                            [never, less1, 4~8, 1~3, gt8, nan]\n",
      "CarryAway                              [nan, 4~8, 1~3, gt8, less1, never]\n",
      "RestaurantLessThan20                   [4~8, 1~3, less1, gt8, nan, never]\n",
      "Restaurant20To50                       [1~3, less1, never, gt8, 4~8, nan]\n",
      "toCoupon_GEQ5min                                                      [1]\n",
      "toCoupon_GEQ15min                                                  [0, 1]\n",
      "toCoupon_GEQ25min                                                  [0, 1]\n",
      "direction_same                                                     [0, 1]\n",
      "direction_opp                                                      [1, 0]\n",
      "Y                                                                  [1, 0]\n",
      "dtype: object\n",
      "\n",
      " Coupon: \n",
      " {'Restaurant(<20)', 'Bar', 'Carry out & Take away', 'Coffee House', 'Restaurant(20-50)'}\n",
      "\n",
      " maritalStatus: \n",
      " {'Single', 'Unmarried partner', 'Widowed', 'Married partner', 'Divorced'}\n",
      "\n",
      " education: \n",
      " {'Some High School', 'Bachelors degree', 'High School Graduate', 'Some college - no degree', 'Graduate degree (Masters or Doctorate)', 'Associates degree'}\n",
      "\n",
      " occupation: \n",
      " {'Protective Service', 'Student', 'Healthcare Practitioners & Technical', 'Legal', 'Business & Financial', 'Community & Social Services', 'Arts Design Entertainment Sports & Media', 'Computer & Mathematical', 'Unemployed', 'Life Physical Social Science', 'Farming Fishing & Forestry', 'Food Preparation & Serving Related', 'Healthcare Support', 'Sales & Related', 'Building & Grounds Cleaning & Maintenance', 'Retired', 'Production Occupations', 'Transportation & Material Moving', 'Office & Administrative Support', 'Management', 'Construction & Extraction', 'Education&Training&Library', 'Personal Care & Service', 'Installation Maintenance & Repair', 'Architecture & Engineering'}\n",
      "\n",
      " income: \n",
      " {'$50000 - $62499', '$25000 - $37499', '$100000 or More', '$87500 - $99999', 'Less than $12500', '$37500 - $49999', '$12500 - $24999', '$62500 - $74999', '$75000 - $87499'}\n",
      "\n",
      " car: \n",
      " {nan, 'Mazda5', 'do not drive', 'Scooter and motorcycle', 'Car that is too old to install Onstar :D', 'crossover'}\n"
     ]
    }
   ],
   "source": [
    "print(data.apply(lambda x: x.unique()))\n",
    "# Taking loser look at cut columns...\n",
    "print('\\n Coupon: \\n', set(data['coupon']))\n",
    "print('\\n maritalStatus: \\n', set(data['maritalStatus']))\n",
    "print('\\n education: \\n', set(data['education']))\n",
    "print('\\n occupation: \\n', set(data['occupation']))\n",
    "print('\\n income: \\n', set(data['income']))\n",
    "print('\\n car: \\n', set(data['car']))"
   ]
  },
  {
   "cell_type": "markdown",
   "metadata": {},
   "source": [
    "3. Decide what to do about your missing data -- drop, replace, other..."
   ]
  },
  {
   "cell_type": "markdown",
   "metadata": {},
   "source": [
    "Columns with nan: **Bar**, **CoffeeHouse**, **CarryAway**, **RestaurantLessThan20**, **Restaurant20To50**, **car**\n",
    "\n",
    "We'll first count how many cells would be removed if we drop the *nan*, if a large portion of the database is dropped then we'll lose statistical significance. In that case it would be wiser to only drop those rows when the data for those columns is relevant. "
   ]
  },
  {
   "cell_type": "code",
   "execution_count": 147,
   "metadata": {},
   "outputs": [
    {
     "name": "stdout",
     "output_type": "stream",
     "text": [
      "Nan sum:\n",
      " destination                 0\n",
      "passanger                   0\n",
      "weather                     0\n",
      "temperature                 0\n",
      "time                        0\n",
      "coupon                      0\n",
      "expiration                  0\n",
      "gender                      0\n",
      "age                         0\n",
      "maritalStatus               0\n",
      "has_children                0\n",
      "education                   0\n",
      "occupation                  0\n",
      "income                      0\n",
      "car                     12576\n",
      "Bar                       107\n",
      "CoffeeHouse               217\n",
      "CarryAway                 151\n",
      "RestaurantLessThan20      130\n",
      "Restaurant20To50          189\n",
      "toCoupon_GEQ5min            0\n",
      "toCoupon_GEQ15min           0\n",
      "toCoupon_GEQ25min           0\n",
      "direction_same              0\n",
      "direction_opp               0\n",
      "Y                           0\n",
      "dtype: int64\n",
      "\n",
      "Entry sum:\n",
      " destination             12684\n",
      "passanger               12684\n",
      "weather                 12684\n",
      "temperature             12684\n",
      "time                    12684\n",
      "coupon                  12684\n",
      "expiration              12684\n",
      "gender                  12684\n",
      "age                     12684\n",
      "maritalStatus           12684\n",
      "has_children            12684\n",
      "education               12684\n",
      "occupation              12684\n",
      "income                  12684\n",
      "car                       108\n",
      "Bar                     12577\n",
      "CoffeeHouse             12467\n",
      "CarryAway               12533\n",
      "RestaurantLessThan20    12554\n",
      "Restaurant20To50        12495\n",
      "toCoupon_GEQ5min        12684\n",
      "toCoupon_GEQ15min       12684\n",
      "toCoupon_GEQ25min       12684\n",
      "direction_same          12684\n",
      "direction_opp           12684\n",
      "Y                       12684\n",
      "dtype: int64\n"
     ]
    }
   ],
   "source": [
    "print(\"Nan sum:\\n\", data.isnull().sum(axis = 0))\n",
    "print(\"\\nEntry sum:\\n\", data.count())"
   ]
  },
  {
   "cell_type": "markdown",
   "metadata": {},
   "source": [
    "We see that there are relativeley few entries for **car**, so we will drop that column entirely. Additionally, we see there are relativley few entries with *nan* for **Bar**, **CoffeeHouse**, **CarryAway**, **RestaurantLessThan20**, **Restaurant20To50**, so we will drop those rows specifically."
   ]
  },
  {
   "cell_type": "code",
   "execution_count": 148,
   "metadata": {},
   "outputs": [
    {
     "name": "stdout",
     "output_type": "stream",
     "text": [
      "Nan sum:\n",
      " destination             0\n",
      "passanger               0\n",
      "weather                 0\n",
      "temperature             0\n",
      "time                    0\n",
      "coupon                  0\n",
      "expiration              0\n",
      "gender                  0\n",
      "age                     0\n",
      "maritalStatus           0\n",
      "has_children            0\n",
      "education               0\n",
      "occupation              0\n",
      "income                  0\n",
      "Bar                     0\n",
      "CoffeeHouse             0\n",
      "CarryAway               0\n",
      "RestaurantLessThan20    0\n",
      "Restaurant20To50        0\n",
      "toCoupon_GEQ5min        0\n",
      "toCoupon_GEQ15min       0\n",
      "toCoupon_GEQ25min       0\n",
      "direction_same          0\n",
      "direction_opp           0\n",
      "Y                       0\n",
      "dtype: int64\n",
      "\n",
      "Entry sum:\n",
      " destination             12079\n",
      "passanger               12079\n",
      "weather                 12079\n",
      "temperature             12079\n",
      "time                    12079\n",
      "coupon                  12079\n",
      "expiration              12079\n",
      "gender                  12079\n",
      "age                     12079\n",
      "maritalStatus           12079\n",
      "has_children            12079\n",
      "education               12079\n",
      "occupation              12079\n",
      "income                  12079\n",
      "Bar                     12079\n",
      "CoffeeHouse             12079\n",
      "CarryAway               12079\n",
      "RestaurantLessThan20    12079\n",
      "Restaurant20To50        12079\n",
      "toCoupon_GEQ5min        12079\n",
      "toCoupon_GEQ15min       12079\n",
      "toCoupon_GEQ25min       12079\n",
      "direction_same          12079\n",
      "direction_opp           12079\n",
      "Y                       12079\n",
      "dtype: int64\n"
     ]
    }
   ],
   "source": [
    "filtered_data = data.drop(['car'], axis=1)\n",
    "filtered_data = filtered_data.dropna()\n",
    "print(\"Nan sum:\\n\", filtered_data.isnull().sum(axis = 0))\n",
    "print(\"\\nEntry sum:\\n\", filtered_data.count())"
   ]
  },
  {
   "cell_type": "markdown",
   "metadata": {},
   "source": [
    "4. What proportion of the total observations chose to accept the coupon? \n",
    "\n"
   ]
  },
  {
   "cell_type": "code",
   "execution_count": 149,
   "metadata": {},
   "outputs": [
    {
     "name": "stdout",
     "output_type": "stream",
     "text": [
      "56.93352098683666% of total observations chose to accept the coupon.\n"
     ]
    }
   ],
   "source": [
    "print(f'{filtered_data.Y.sum()/len(filtered_data)*100}% of total observations chose to accept the coupon.')"
   ]
  },
  {
   "cell_type": "markdown",
   "metadata": {},
   "source": [
    "5. Use a bar plot to visualize the `coupon` column."
   ]
  },
  {
   "cell_type": "code",
   "execution_count": 150,
   "metadata": {},
   "outputs": [
    {
     "data": {
      "text/plain": [
       "<seaborn.axisgrid.FacetGrid at 0x1420e0e80>"
      ]
     },
     "execution_count": 150,
     "metadata": {},
     "output_type": "execute_result"
    },
    {
     "data": {
      "image/png": "[encoded data removed]",
      "text/plain": [
       "<Figure size 614.75x500 with 1 Axes>"
      ]
     },
     "metadata": {},
     "output_type": "display_data"
    }
   ],
   "source": [
    "coupon_count = pd.DataFrame(filtered_data[\"Y\"].value_counts())\n",
    "coupon_count[\"Decision\"] = ['Accepted', 'Declined']\n",
    "\n",
    "ax = sns.catplot(kind=\"bar\", x=\"Y\", y=\"Y\", data=coupon_count, hue=\"Decision\")\n",
    "ax.set(xlabel='Decision', ylabel='Count')"
   ]
  },
  {
   "cell_type": "markdown",
   "metadata": {},
   "source": [
    "6. Use a histogram to visualize the temperature column."
   ]
  },
  {
   "cell_type": "code",
   "execution_count": 151,
   "metadata": {},
   "outputs": [
    {
     "data": {
      "text/plain": [
       "<seaborn.axisgrid.FacetGrid at 0x1417ed220>"
      ]
     },
     "execution_count": 151,
     "metadata": {},
     "output_type": "execute_result"
    },
    {
     "data": {
      "image/png": "[encoded data removed]",
      "text/plain": [
       "<Figure size 500x500 with 1 Axes>"
      ]
     },
     "metadata": {},
     "output_type": "display_data"
    }
   ],
   "source": [
    "sns.displot(data=filtered_data['temperature'])"
   ]
  },
  {
   "cell_type": "markdown",
   "metadata": {},
   "source": [
    "**Investigating the Bar Coupons**\n",
    "\n",
    "Now, we will lead you through an exploration of just the bar related coupons.  \n",
    "\n",
    "1. Create a new `DataFrame` that contains just the bar coupons.\n"
   ]
  },
  {
   "cell_type": "code",
   "execution_count": 152,
   "metadata": {},
   "outputs": [],
   "source": [
    "bar_data = filtered_data.query('coupon == \"Bar\"')"
   ]
  },
  {
   "cell_type": "markdown",
   "metadata": {},
   "source": [
    "2. What proportion of bar coupons were accepted?\n"
   ]
  },
  {
   "cell_type": "code",
   "execution_count": 153,
   "metadata": {},
   "outputs": [
    {
     "name": "stdout",
     "output_type": "stream",
     "text": [
      "41.19184526921067% of bar coupons where accepted.\n"
     ]
    }
   ],
   "source": [
    "print(f'{bar_data.Y.sum()/len(bar_data)*100}% of bar coupons where accepted.')"
   ]
  },
  {
   "cell_type": "markdown",
   "metadata": {},
   "source": [
    "3. Compare the acceptance rate between those who went to a bar 3 or fewer times a month to those who went more.\n"
   ]
  },
  {
   "cell_type": "code",
   "execution_count": 154,
   "metadata": {},
   "outputs": [
    {
     "name": "stdout",
     "output_type": "stream",
     "text": [
      "Those who frequent the bar 3 or fewer times per month accepted the bar coupons 37.26744186046512% of the \n",
      "time compared to those who frequented more at a 76.16580310880829% acceptance rate.\n",
      "\n"
     ]
    }
   ],
   "source": [
    "#people who went to the bar 3 or less times\n",
    "leq3 = bar_data.query('Bar in [\"never\", \"less1\", \"1~3\"]')\n",
    "leq3_accepted = leq3.query('Y == True')\n",
    "\n",
    "leq3_rate = len(leq3_accepted)/len(leq3)*100\n",
    "\n",
    "#people who went to the bar more than 3 times\n",
    "gt3 = bar_data.query('Bar not in [\"never\", \"less1\", \"1~3\"]')\n",
    "gt3_accepted = gt3.query('Y == True')\n",
    "\n",
    "gt3_rate = len(gt3_accepted)/len(gt3)*100\n",
    "\n",
    "print(f'''Those who frequent the bar 3 or fewer times per month accepted the bar coupons {leq3_rate}% of the \n",
    "time compared to those who frequented more at a {gt3_rate}% acceptance rate.\n",
    "''')"
   ]
  },
  {
   "cell_type": "markdown",
   "metadata": {},
   "source": [
    "4. Compare the acceptance rate between drivers who go to a bar more than once a month and are over the age of 25 to the all others.  Is there a difference?\n"
   ]
  },
  {
   "cell_type": "code",
   "execution_count": 155,
   "metadata": {},
   "outputs": [
    {
     "name": "stdout",
     "output_type": "stream",
     "text": [
      "Drivers who go to the bar more than once a month and are over the age of 25 \n",
      "have an acceptance rate of 68.28087167070218% compared to everyone \n",
      "else at 33.64737550471063% acceptance.\n"
     ]
    }
   ],
   "source": [
    "# we filter again by those who go to the bar more than once\n",
    "drivers_gt1 = bar_data.query('Bar not in [\"never\", \"less1\"]')\n",
    "\n",
    "# we filter one more time by those over the age of 25\n",
    "drivers_gt1_gt25yo = drivers_gt1.query('age != \"21\"')\n",
    "\n",
    "# everyone else\n",
    "everyone_else = pd.concat([bar_data, drivers_gt1_gt25yo]).drop_duplicates(keep=False)\n",
    "\n",
    "# rates\n",
    "everyone_else_acceptance_rate = len(everyone_else.query('Y == True'))/len(everyone_else)*100\n",
    "drivers_gt1_gt25yo_acceptance_rate = len(drivers_gt1_gt25yo.query('Y == True'))/len(drivers_gt1_gt25yo)*100\n",
    "\n",
    "print(f'''Drivers who go to the bar more than once a month and are over the age of 25 \n",
    "have an acceptance rate of {drivers_gt1_gt25yo_acceptance_rate}% compared to everyone \n",
    "else at {everyone_else_acceptance_rate}% acceptance.''')\n"
   ]
  },
  {
   "cell_type": "markdown",
   "metadata": {},
   "source": [
    "5. Use the same process to compare the acceptance rate between drivers who go to bars more than once a month and had passengers that were not a kid and had occupations other than farming, fishing, or forestry. \n"
   ]
  },
  {
   "cell_type": "code",
   "execution_count": 156,
   "metadata": {},
   "outputs": [
    {
     "name": "stdout",
     "output_type": "stream",
     "text": [
      "Drivers who go to the bar more than once a month, had passangers that weren't kids \n",
      "and occupations other than farming, fishing and forestry have an acceptance rate of \n",
      "71.42857142857143% compared to everyone else at 37.836257309941516% acceptance.\n"
     ]
    }
   ],
   "source": [
    "# we filter again by those who go to the bar more than once\n",
    "drivers_gt1 = bar_data.query('Bar not in [\"never\", \"less1\"]')\n",
    "\n",
    "# we apply another filter for those who have passengers that weren't kids\n",
    "drivers_gt1_adult_passanger = drivers_gt1.query('passanger not in [\"Kid(s)\", \"Alone\"]')\n",
    "\n",
    "# lastly, we apply the filter to those with an occupation other than farming, fishing, forestry\n",
    "drivers_gt1_adult_passanger_occupation = drivers_gt1_adult_passanger.query('occupation not in [\"farming\", \"fishing\", \"forestry\"]')\n",
    "\n",
    "# everyone else\n",
    "everyone_else = pd.concat([bar_data, drivers_gt1_adult_passanger_occupation]).drop_duplicates(keep=False)\n",
    "\n",
    "# rates\n",
    "everyone_else_acceptance_rate = len(everyone_else.query('Y == True'))/len(everyone_else)*100\n",
    "drivers_gt1_adult_passanger_occupation_rate = len(drivers_gt1_adult_passanger_occupation.query('Y == True'))/len(drivers_gt1_adult_passanger_occupation)*100\n",
    "\n",
    "print(f'''Drivers who go to the bar more than once a month, had passangers that weren't kids \n",
    "and occupations other than farming, fishing and forestry have an acceptance rate of \n",
    "{drivers_gt1_adult_passanger_occupation_rate}% compared to everyone else at {everyone_else_acceptance_rate}% acceptance.''')"
   ]
  },
  {
   "cell_type": "markdown",
   "metadata": {},
   "source": [
    "6. Compare the acceptance rates between those drivers who:\n",
    "\n",
    "- go to bars more than once a month, had passengers that were not a kid, and were not widowed *OR*\n",
    "- go to bars more than once a month and are under the age of 30 *OR*\n",
    "- go to cheap restaurants more than 4 times a month and income is less than 50K. \n",
    "\n"
   ]
  },
  {
   "cell_type": "code",
   "execution_count": 157,
   "metadata": {},
   "outputs": [
    {
     "name": "stdout",
     "output_type": "stream",
     "text": [
      "Drivers who go to bars more than once a month, had passengers that were not a kid, and were not widowed have an acceptance rate of \n",
      "71.42857142857143% compared to everyone else at 37.836257309941516% acceptance.\n"
     ]
    }
   ],
   "source": [
    "# go to bars more than once a month, had passengers that were not a kid, and were not widowed\n",
    "\n",
    "# we filter again by those who go to the bar more than once\n",
    "drivers_gt1 = bar_data.query('Bar not in [\"never\", \"less1\"]')\n",
    "\n",
    "# we apply another filter for those who have passengers that weren't kids\n",
    "drivers_gt1_adult_passanger = drivers_gt1.query('passanger not in [\"Kid(s)\", \"Alone\"]')\n",
    "\n",
    "# lastly, we apply filter to those that weren't windowed\n",
    "drivers_gt1_adult_passanger_not_widowed = drivers_gt1_adult_passanger.query('maritalStatus != \"Widowed\"')\n",
    "\n",
    "# acceptance rate - everyone else\n",
    "everyone_else = pd.concat([bar_data, drivers_gt1_adult_passanger_not_widowed]).drop_duplicates(keep=False)\n",
    "\n",
    "# rates\n",
    "everyone_else_acceptance_rate = len(everyone_else.query('Y == True'))/len(everyone_else)*100\n",
    "drivers_gt1_adult_passanger_not_widowed_rate = len(drivers_gt1_adult_passanger_not_widowed.query('Y == True'))/len(drivers_gt1_adult_passanger_not_widowed)*100\n",
    "\n",
    "print(f'''Drivers who go to bars more than once a month, had passengers that were not a kid, and were not widowed have an acceptance rate of \n",
    "{drivers_gt1_adult_passanger_not_widowed_rate}% compared to everyone else at {everyone_else_acceptance_rate}% acceptance.''')\n"
   ]
  },
  {
   "cell_type": "code",
   "execution_count": 158,
   "metadata": {},
   "outputs": [
    {
     "name": "stdout",
     "output_type": "stream",
     "text": [
      "Drivers who go to bars more than once a month and are under the age of 30 have an acceptance rate of \n",
      "63.934426229508205% compared to everyone else at 37.82477341389728% acceptance.\n"
     ]
    }
   ],
   "source": [
    "# go to bars more than once a month and are under the age of 30 \n",
    "\n",
    "# we already have the bar filter as drivers_gt1\n",
    "\n",
    "# we apply the filter for those below the age of 30\n",
    "drivers_gt1_lt30 = drivers_gt1.query('age not in [\"26\", \"21\", \"below21\"]')\n",
    "\n",
    "# acceptance rate - everyone else\n",
    "everyone_else = pd.concat([bar_data, drivers_gt1_lt30]).drop_duplicates(keep=False)\n",
    "\n",
    "# rates\n",
    "everyone_else_acceptance_rate = len(everyone_else.query('Y == True'))/len(everyone_else)*100\n",
    "drivers_gt1_lt30_rate = len(drivers_gt1_lt30.query('Y == True'))/len(drivers_gt1_lt30)*100\n",
    "\n",
    "print(f'''Drivers who go to bars more than once a month and are under the age of 30 have an acceptance rate of \n",
    "{drivers_gt1_lt30_rate}% compared to everyone else at {everyone_else_acceptance_rate}% acceptance.''')\n"
   ]
  },
  {
   "cell_type": "code",
   "execution_count": 159,
   "metadata": {},
   "outputs": [
    {
     "name": "stdout",
     "output_type": "stream",
     "text": [
      "Drivers who go to cheap restaurants more than 4 times a month with an income less than 50K have an acceptance rate of \n",
      "40.64837905236908% compared to everyone else at 41.28989361702128% acceptance.\n"
     ]
    }
   ],
   "source": [
    "# go to cheap restaurants more than 4 times a month with an income less than 50K\n",
    "\n",
    "# go to cheap restarants more than 4 times a month\n",
    "cheap_res_gt4 = bar_data.query('RestaurantLessThan20 not in [\"1~3\", \"less1\", \"never\"]')\n",
    "\n",
    "# income less than 50k\n",
    "cheap_res_gt4_lt50k = cheap_res_gt4.query('income not in [\"$25000 - $37499\", \"Less than $12500\", \"$37500 - $49999\", \"$12500 - $24999\"]')\n",
    "\n",
    "# acceptance rate - everyone else\n",
    "everyone_else = pd.concat([bar_data, cheap_res_gt4_lt50k]).drop_duplicates(keep=False)\n",
    "\n",
    "# rates\n",
    "everyone_else_acceptance_rate = len(everyone_else.query('Y == True'))/len(everyone_else)*100\n",
    "cheap_res_gt4_lt50k_rate = len(cheap_res_gt4_lt50k.query('Y == True'))/len(cheap_res_gt4_lt50k)*100\n",
    "\n",
    "print(f'''Drivers who go to cheap restaurants more than 4 times a month with an income less than 50K have an acceptance rate of \n",
    "{cheap_res_gt4_lt50k_rate}% compared to everyone else at {everyone_else_acceptance_rate}% acceptance.''')\n"
   ]
  },
  {
   "cell_type": "markdown",
   "metadata": {},
   "source": [
    "We find that the acceptance rate falls in the order that they appear:\n",
    "\n",
    "- go to bars more than once a month, had passengers that were not a kid, and were not widowed **AT ~71% acceptance**\n",
    "- go to bars more than once a month and are under the age of 30 **AT ~64% acceptance**\n",
    "- go to cheap restaurants more than 4 times a month and income is less than 50K **AT ~ 40% acceptance**\n"
   ]
  },
  {
   "cell_type": "markdown",
   "metadata": {},
   "source": [
    "7.  Based on these observations, what do you hypothesize about drivers who accepted the bar coupons?"
   ]
  },
  {
   "cell_type": "markdown",
   "metadata": {},
   "source": [
    "People under 30 like to go to bars with friends and often take advantage of the coupons, lower income people are deterred either way. It's hard to make observations here as these filters do not build off of each other."
   ]
  },
  {
   "cell_type": "markdown",
   "metadata": {},
   "source": [
    "### Independent Investigation\n",
    "\n",
    "Using the bar coupon example as motivation, you are to explore one of the other coupon groups and try to determine the characteristics of passengers who accept the coupons.  "
   ]
  },
  {
   "cell_type": "markdown",
   "metadata": {},
   "source": [
    "**Let's see if going in the same direction as a coffee house has a greater impact for coupon acceptance than sunny weather:**\n",
    "- Coffee house coupon acceptance rate for drivers going in the same direction.\n",
    "- Coffee house coupone acceptance rate for drivers in sunny weather."
   ]
  },
  {
   "cell_type": "code",
   "execution_count": 160,
   "metadata": {},
   "outputs": [
    {
     "name": "stdout",
     "output_type": "stream",
     "text": [
      "Drivers who are going in the same direction as a Coffee House have a coupon acceptance rate\n",
      "52.6536312849162% compared to everyone else at 48.80181347150259% acceptance.\n"
     ]
    }
   ],
   "source": [
    "# filter for coffee house coupon\n",
    "coffee_data = filtered_data.query('coupon == \"Coffee House\"')\n",
    "\n",
    "# Coffee house coupon acceptance rate for drivers going in the same direction.\n",
    "coffee_same_dir = coffee_data.query('direction_same == 1')\n",
    "\n",
    "# acceptance rate - everyone else\n",
    "everyone_else = pd.concat([coffee_data, coffee_same_dir]).drop_duplicates(keep=False)\n",
    "\n",
    "# rates\n",
    "everyone_else_acceptance_rate = len(everyone_else.query('Y == True'))/len(everyone_else)*100\n",
    "coffee_same_dir_rate = len(coffee_same_dir.query('Y == True'))/len(coffee_same_dir)*100\n",
    "\n",
    "print(f'''Drivers who are going in the same direction as a Coffee House have a coupon acceptance rate\n",
    "{coffee_same_dir_rate}% compared to everyone else at {everyone_else_acceptance_rate}% acceptance.''')\n"
   ]
  },
  {
   "cell_type": "code",
   "execution_count": 161,
   "metadata": {},
   "outputs": [
    {
     "name": "stdout",
     "output_type": "stream",
     "text": [
      "Drivers who are going in the same direction as a Coffee House have a coupon acceptance rate\n",
      "50.090470446320865% compared to everyone else at 46.787148594377506% acceptance.\n"
     ]
    }
   ],
   "source": [
    "# filter for coffee house coupon\n",
    "coffee_data = filtered_data.query('coupon == \"Coffee House\"')\n",
    "\n",
    "# Coffee house coupon acceptance rate for drivers going in the same direction.\n",
    "coffee_weather = coffee_data.query('weather == \"Sunny\"')\n",
    "\n",
    "# acceptance rate - everyone else\n",
    "everyone_else = pd.concat([coffee_data, coffee_weather]).drop_duplicates(keep=False)\n",
    "\n",
    "# rates\n",
    "everyone_else_acceptance_rate = len(everyone_else.query('Y == True'))/len(everyone_else)*100\n",
    "coffee_weather_rate = len(coffee_weather.query('Y == True'))/len(coffee_weather)*100\n",
    "\n",
    "print(f'''Drivers in sunny weather accept Coffee House coupons with an acceptance rate\n",
    "{coffee_weather_rate}% compared to everyone else at {everyone_else_acceptance_rate}% acceptance.''')\n"
   ]
  },
  {
   "cell_type": "markdown",
   "metadata": {},
   "source": [
    "Since both the direction and weather have almost coin flip for coupon acceptance rate at Coffee Houses, we can assume that neither really has a large impact. However, we can check to see if bad weather might have an impact.\n",
    "\n",
    "- Coffee house coupone acceptance rate for drivers in snowy weather.\n",
    "- Coffee house coupone acceptance rate for drivers in rainy weather."
   ]
  },
  {
   "cell_type": "code",
   "execution_count": 162,
   "metadata": {},
   "outputs": [
    {
     "name": "stdout",
     "output_type": "stream",
     "text": [
      "Drivers in snowy weather accept Coffee House coupons with an acceptance rate\n",
      "42.80701754385965% compared to everyone else at 50.014208581983524% acceptance.\n"
     ]
    }
   ],
   "source": [
    "# filter for coffee house coupon\n",
    "coffee_data = filtered_data.query('coupon == \"Coffee House\"')\n",
    "\n",
    "# Coffee house coupon acceptance rate for drivers going in the same direction.\n",
    "coffee_weather = coffee_data.query('weather == \"Snowy\"')\n",
    "\n",
    "# acceptance rate - everyone else\n",
    "everyone_else = pd.concat([coffee_data, coffee_weather]).drop_duplicates(keep=False)\n",
    "\n",
    "# rates\n",
    "everyone_else_acceptance_rate = len(everyone_else.query('Y == True'))/len(everyone_else)*100\n",
    "coffee_weather_rate = len(coffee_weather.query('Y == True'))/len(coffee_weather)*100\n",
    "\n",
    "print(f'''Drivers in snowy weather accept Coffee House coupons with an acceptance rate\n",
    "{coffee_weather_rate}% compared to everyone else at {everyone_else_acceptance_rate}% acceptance.''')\n"
   ]
  },
  {
   "cell_type": "code",
   "execution_count": 163,
   "metadata": {},
   "outputs": [
    {
     "name": "stdout",
     "output_type": "stream",
     "text": [
      "Drivers in snowy weather accept Coffee House coupons with an acceptance rate\n",
      "51.627906976744185% compared to everyone else at 49.3727348759409% acceptance.\n"
     ]
    }
   ],
   "source": [
    "# filter for coffee house coupon\n",
    "coffee_data = filtered_data.query('coupon == \"Coffee House\"')\n",
    "\n",
    "# Coffee house coupon acceptance rate for drivers going in the same direction.\n",
    "coffee_weather = coffee_data.query('weather == \"Rainy\"')\n",
    "\n",
    "# acceptance rate - everyone else\n",
    "everyone_else = pd.concat([coffee_data, coffee_weather]).drop_duplicates(keep=False)\n",
    "\n",
    "# rates\n",
    "everyone_else_acceptance_rate = len(everyone_else.query('Y == True'))/len(everyone_else)*100\n",
    "coffee_weather_rate = len(coffee_weather.query('Y == True'))/len(coffee_weather)*100\n",
    "\n",
    "print(f'''Drivers in snowy weather accept Coffee House coupons with an acceptance rate\n",
    "{coffee_weather_rate}% compared to everyone else at {everyone_else_acceptance_rate}% acceptance.''')\n"
   ]
  },
  {
   "cell_type": "markdown",
   "metadata": {},
   "source": [
    "We can conclude that neither direction and weather have much of an impact for drivers that accept Coffee House coupons except for those driving in snowy weather. We would imagine in snowy weather all coupon accepts rates would be lower. There is probably another factor that effects Coffee House coupon rates, but it's none of these."
   ]
  },
  {
   "cell_type": "code",
   "execution_count": null,
   "metadata": {},
   "outputs": [],
   "source": []
  }
 ],
 "metadata": {
  "kernelspec": {
   "display_name": "Python 3 (ipykernel)",
   "language": "python",
   "name": "python3"
  },
  "language_info": {
   "codemirror_mode": {
    "name": "ipython",
    "version": 3
   },
   "file_extension": ".py",
   "mimetype": "text/x-python",
   "name": "python",
   "nbconvert_exporter": "python",
   "pygments_lexer": "ipython3",
   "version": "3.9.6"
  },
  "widgets": {
   "application/vnd.jupyter.widget-state+json": {
    "state": {},
    "version_major": 2,
    "version_minor": 0
   }
  }
 },
 "nbformat": 4,
 "nbformat_minor": 4
}
